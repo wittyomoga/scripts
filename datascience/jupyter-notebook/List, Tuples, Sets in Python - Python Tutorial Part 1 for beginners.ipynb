{
 "cells": [
  {
   "cell_type": "markdown",
   "metadata": {},
   "source": [
    "## List, Tuples, Sets in Python - Python Tutorial Part 1 for Beginners"
   ]
  },
  {
   "cell_type": "markdown",
   "metadata": {},
   "source": [
    "<b> Author: </b> Som | som@e2eSolutionArchitect.com | [e2eSolutionArchitect.com](http://e2esolutionarchitect.com) <br>\n",
    "Watch <b>e2e Solution Architect</b> tutorials. [click here](https://www.youtube.com/channel/UC5Juuk7aTvbRmrABMq4onJA/videos) | [GitHub link](https://github.com/e2eSolutionArchitect/datascience/blob/main/python/Markdown%20in%20Jupyter%20Notebook.ipynb)"
   ]
  },
  {
   "cell_type": "markdown",
   "metadata": {},
   "source": [
    "### Agenda"
   ]
  },
  {
   "cell_type": "markdown",
   "metadata": {},
   "source": [
    "1. List\n",
    "1. Tuples\n",
    "1. Sets\n",
    "1. Dictionaries"
   ]
  },
  {
   "cell_type": "markdown",
   "metadata": {},
   "source": [
    "# 1. List"
   ]
  },
  {
   "cell_type": "markdown",
   "metadata": {},
   "source": [
    "List is an <b> Ordered </b> and <b> Mutable </b> data structure in Python. It is one of the most common data structure in Python "
   ]
  },
  {
   "cell_type": "markdown",
   "metadata": {},
   "source": [
    "## Define a list"
   ]
  },
  {
   "cell_type": "markdown",
   "metadata": {},
   "source": [
    "<b> Note: </b> for boolean it should be True/False not true/false"
   ]
  },
  {
   "cell_type": "code",
   "execution_count": 1,
   "metadata": {},
   "outputs": [
    {
     "name": "stdout",
     "output_type": "stream",
     "text": [
      "['Alex', 'John', 'Mira', 'Chang', 'Prakash']\n",
      "['Alex', 26, True]\n"
     ]
    }
   ],
   "source": [
    "# Empty list\n",
    "# student = []\n",
    "\n",
    "# List with value\n",
    "students =['Alex', 'John', 'Mira', 'Chang', 'Prakash']\n",
    "print(students)\n",
    "\n",
    "# List with Mixed data type\n",
    "my_list=['Alex', 26, True]\n",
    "print(my_list)"
   ]
  },
  {
   "cell_type": "markdown",
   "metadata": {},
   "source": [
    "## Nested List"
   ]
  },
  {
   "cell_type": "code",
   "execution_count": 2,
   "metadata": {},
   "outputs": [
    {
     "name": "stdout",
     "output_type": "stream",
     "text": [
      "['Alex', [2, 7, 'Char', False], ['a']]\n"
     ]
    }
   ],
   "source": [
    "nstd_list=[\"Alex\", [2,7,\"Char\", False], ['a']]\n",
    "print(nstd_list)"
   ]
  },
  {
   "cell_type": "markdown",
   "metadata": {},
   "source": [
    "<b> Note: </b> \" \" and ' ' act similar"
   ]
  },
  {
   "cell_type": "markdown",
   "metadata": {},
   "source": [
    "## Access List Items"
   ]
  },
  {
   "cell_type": "markdown",
   "metadata": {},
   "source": [
    "<b> Note: </b>A List index starts from 0. First item index is zero. Count other item index accordingly."
   ]
  },
  {
   "cell_type": "code",
   "execution_count": 3,
   "metadata": {},
   "outputs": [
    {
     "name": "stdout",
     "output_type": "stream",
     "text": [
      "Prakash\n"
     ]
    }
   ],
   "source": [
    "# Find index of 'Prakash' in below list \n",
    "students =['Alex', 'John', 'Mira', 'Chang', 'Prakash']\n",
    "print(students[4])"
   ]
  },
  {
   "cell_type": "code",
   "execution_count": 4,
   "metadata": {},
   "outputs": [
    {
     "name": "stdout",
     "output_type": "stream",
     "text": [
      "Char\n"
     ]
    }
   ],
   "source": [
    "# Find index of 'Char' in below nested list\n",
    "nstd_list=[\"Alex\", [2,7,\"Char\", False], ['a']]\n",
    "print(nstd_list[1][2])"
   ]
  },
  {
   "cell_type": "code",
   "execution_count": 5,
   "metadata": {},
   "outputs": [
    {
     "name": "stdout",
     "output_type": "stream",
     "text": [
      "['Alex', 'John']\n"
     ]
    }
   ],
   "source": [
    "# Find first TWO items in below list \n",
    "students =['Alex', 'John', 'Mira', 'Chang', 'Prakash']\n",
    "print(students[:2])\n",
    "# students[:2] - starts from 0th index till 1. as '2' is exclusive"
   ]
  },
  {
   "cell_type": "code",
   "execution_count": 6,
   "metadata": {},
   "outputs": [
    {
     "name": "stdout",
     "output_type": "stream",
     "text": [
      "['Alex', 'John']\n"
     ]
    }
   ],
   "source": [
    "# Another way\n",
    "print(students[0:2])"
   ]
  },
  {
   "cell_type": "markdown",
   "metadata": {},
   "source": [
    "<b> Note: </b> list_name [index_inclusive: index_exclusive]"
   ]
  },
  {
   "cell_type": "code",
   "execution_count": 7,
   "metadata": {},
   "outputs": [
    {
     "name": "stdout",
     "output_type": "stream",
     "text": [
      "['John', 'Mira', 'Chang', 'Prakash']\n"
     ]
    }
   ],
   "source": [
    "# Find 2nd to 5th items from below list\n",
    "students =['Alex', 'John', 'Mira', 'Chang', 'Prakash']\n",
    "print(students[1:5])"
   ]
  },
  {
   "cell_type": "code",
   "execution_count": 8,
   "metadata": {},
   "outputs": [
    {
     "data": {
      "text/plain": [
       "['Alex', 'John', 'Mira', 'Chang', 'Prakash']"
      ]
     },
     "execution_count": 8,
     "metadata": {},
     "output_type": "execute_result"
    }
   ],
   "source": [
    "# Items from beginning to end. Alternative to printing the whole list\n",
    "students[:]"
   ]
  },
  {
   "cell_type": "markdown",
   "metadata": {},
   "source": [
    "### Find Index of item(s) in a list"
   ]
  },
  {
   "cell_type": "code",
   "execution_count": 9,
   "metadata": {},
   "outputs": [
    {
     "data": {
      "text/plain": [
       "1"
      ]
     },
     "execution_count": 9,
     "metadata": {},
     "output_type": "execute_result"
    }
   ],
   "source": [
    "# find index for John\n",
    "students.index('John')"
   ]
  },
  {
   "cell_type": "code",
   "execution_count": 10,
   "metadata": {},
   "outputs": [
    {
     "name": "stdout",
     "output_type": "stream",
     "text": [
      "Alex\n",
      "John\n",
      "Mira\n",
      "Chang\n",
      "Prakash\n"
     ]
    }
   ],
   "source": [
    "# list values of all items\n",
    "for item in students:\n",
    "    print(item)"
   ]
  },
  {
   "cell_type": "code",
   "execution_count": 11,
   "metadata": {},
   "outputs": [
    {
     "name": "stdout",
     "output_type": "stream",
     "text": [
      "0 Alex\n",
      "1 John\n",
      "2 Mira\n",
      "3 Chang\n",
      "4 Prakash\n"
     ]
    }
   ],
   "source": [
    "# list index and values of all items\n",
    "for i,c in enumerate(students):\n",
    "    print(i,c)"
   ]
  },
  {
   "cell_type": "code",
   "execution_count": 12,
   "metadata": {},
   "outputs": [
    {
     "name": "stdout",
     "output_type": "stream",
     "text": [
      "1 Alex\n",
      "2 John\n",
      "3 Mira\n",
      "4 Chang\n",
      "5 Prakash\n"
     ]
    }
   ],
   "source": [
    "# list index and values of all items and start index as 1\n",
    "for i,c in enumerate(students, start=1):\n",
    "    print(i,c)"
   ]
  },
  {
   "cell_type": "markdown",
   "metadata": {},
   "source": [
    "## Negative Indexing"
   ]
  },
  {
   "cell_type": "code",
   "execution_count": 13,
   "metadata": {},
   "outputs": [
    {
     "data": {
      "text/plain": [
       "'Prakash'"
      ]
     },
     "execution_count": 13,
     "metadata": {},
     "output_type": "execute_result"
    }
   ],
   "source": [
    "# Find last item from list 'students'\n",
    "students[-1]"
   ]
  },
  {
   "cell_type": "code",
   "execution_count": 14,
   "metadata": {},
   "outputs": [
    {
     "data": {
      "text/plain": [
       "'Chang'"
      ]
     },
     "execution_count": 14,
     "metadata": {},
     "output_type": "execute_result"
    }
   ],
   "source": [
    "# Find Second last item from list 'students'\n",
    "students[-2]"
   ]
  },
  {
   "cell_type": "markdown",
   "metadata": {},
   "source": [
    "## Update List"
   ]
  },
  {
   "cell_type": "code",
   "execution_count": 15,
   "metadata": {},
   "outputs": [
    {
     "data": {
      "text/plain": [
       "['Alex', 'John', 'Mira', 'Chang', 'Prakash', 'Jackie']"
      ]
     },
     "execution_count": 15,
     "metadata": {},
     "output_type": "execute_result"
    }
   ],
   "source": [
    "# Add Jackie and Yulu in students list\n",
    "students.append('Jackie') # append() takes exactly one argument at a time. it can't be like append('Jackie', 'Yulu') \n",
    "students"
   ]
  },
  {
   "cell_type": "code",
   "execution_count": 16,
   "metadata": {},
   "outputs": [
    {
     "data": {
      "text/plain": [
       "['Alex', 'John', 'Mira', 'Chang', 'Prakash', 'Jackie', 'Billo', 'Yulu']"
      ]
     },
     "execution_count": 16,
     "metadata": {},
     "output_type": "execute_result"
    }
   ],
   "source": [
    "# Add Billo and Yulu in students list\n",
    "students.extend(['Billo', 'Yulu']) # unlike append(), extends() takes more than one one argument \n",
    "students"
   ]
  },
  {
   "cell_type": "code",
   "execution_count": 17,
   "metadata": {},
   "outputs": [
    {
     "data": {
      "text/plain": [
       "['Alex', 'John', 'Mira', 'Chang', 'Prakash', 'Bagira', 'Billo', 'Yulu']"
      ]
     },
     "execution_count": 17,
     "metadata": {},
     "output_type": "execute_result"
    }
   ],
   "source": [
    "# update 6th Item with Bagira\n",
    "students[5]='Bagira'\n",
    "students"
   ]
  },
  {
   "cell_type": "code",
   "execution_count": 18,
   "metadata": {},
   "outputs": [
    {
     "data": {
      "text/plain": [
       "['Alex', 'John', 'Nilo', 'Mira', 'Chang', 'Prakash', 'Bagira', 'Billo', 'Yulu']"
      ]
     },
     "execution_count": 18,
     "metadata": {},
     "output_type": "execute_result"
    }
   ],
   "source": [
    "# Insert an item in desired location\n",
    "# Insert 'Nilo' at 3rd position in students list\n",
    "students.insert(2,'Nilo')\n",
    "students"
   ]
  },
  {
   "cell_type": "markdown",
   "metadata": {},
   "source": [
    "## Concatinate list"
   ]
  },
  {
   "cell_type": "code",
   "execution_count": 19,
   "metadata": {},
   "outputs": [
    {
     "data": {
      "text/plain": [
       "['Alex',\n",
       " 'John',\n",
       " 'Nilo',\n",
       " 'Mira',\n",
       " 'Chang',\n",
       " 'Prakash',\n",
       " 'Bagira',\n",
       " 'Billo',\n",
       " 'Yulu',\n",
       " 'Alex',\n",
       " [2, 7, 'Char', False],\n",
       " ['a']]"
      ]
     },
     "execution_count": 19,
     "metadata": {},
     "output_type": "execute_result"
    }
   ],
   "source": [
    "# contatinate 'students' and 'nstd_list'\n",
    "students+nstd_list"
   ]
  },
  {
   "cell_type": "code",
   "execution_count": 20,
   "metadata": {},
   "outputs": [
    {
     "data": {
      "text/plain": [
       "['Alex',\n",
       " 'John',\n",
       " 'Nilo',\n",
       " 'Mira',\n",
       " 'Chang',\n",
       " 'Prakash',\n",
       " 'Bagira',\n",
       " 'Billo',\n",
       " 'Yulu',\n",
       " 5,\n",
       " 7,\n",
       " 2]"
      ]
     },
     "execution_count": 20,
     "metadata": {},
     "output_type": "execute_result"
    }
   ],
   "source": [
    "students + [5,7,2]"
   ]
  },
  {
   "cell_type": "markdown",
   "metadata": {},
   "source": [
    "## Repeate a list"
   ]
  },
  {
   "cell_type": "code",
   "execution_count": 21,
   "metadata": {},
   "outputs": [
    {
     "data": {
      "text/plain": [
       "[5, 8, 1, 5, 8, 1, 5, 8, 1, 5, 8, 1]"
      ]
     },
     "execution_count": 21,
     "metadata": {},
     "output_type": "execute_result"
    }
   ],
   "source": [
    "[5,8,1]*4"
   ]
  },
  {
   "cell_type": "markdown",
   "metadata": {},
   "source": [
    "## Delete List items"
   ]
  },
  {
   "cell_type": "code",
   "execution_count": 22,
   "metadata": {},
   "outputs": [
    {
     "data": {
      "text/plain": [
       "['Alex', 'John', 'Mira', 'Chang', 'Prakash', 'Bagira', 'Billo', 'Yulu']"
      ]
     },
     "execution_count": 22,
     "metadata": {},
     "output_type": "execute_result"
    }
   ],
   "source": [
    "# Delete a particular item of index 2\n",
    "del students[2]\n",
    "students"
   ]
  },
  {
   "cell_type": "code",
   "execution_count": 23,
   "metadata": {},
   "outputs": [
    {
     "data": {
      "text/plain": [
       "['Alex', 'John', 'Mira', 'Chang', 'Billo', 'Yulu']"
      ]
     },
     "execution_count": 23,
     "metadata": {},
     "output_type": "execute_result"
    }
   ],
   "source": [
    "del students[4:6]\n",
    "students"
   ]
  },
  {
   "cell_type": "code",
   "execution_count": 24,
   "metadata": {},
   "outputs": [],
   "source": [
    "# delete entire list\n",
    "# del students\n",
    "\n",
    "# clear a whole list instead of deleting\n",
    "# students.clear()"
   ]
  },
  {
   "cell_type": "markdown",
   "metadata": {},
   "source": [
    "<b> Note: </b> use <b> remove() </b> to remove the given item or <b> pop() </b> to remove an item at the given index"
   ]
  },
  {
   "cell_type": "code",
   "execution_count": 25,
   "metadata": {},
   "outputs": [
    {
     "data": {
      "text/plain": [
       "['Alex', 'John', 'Mira', 'Chang', 'Yulu']"
      ]
     },
     "execution_count": 25,
     "metadata": {},
     "output_type": "execute_result"
    }
   ],
   "source": [
    "students.remove('Billo')\n",
    "students"
   ]
  },
  {
   "cell_type": "code",
   "execution_count": 26,
   "metadata": {},
   "outputs": [
    {
     "data": {
      "text/plain": [
       "['Alex', 'John', 'Chang', 'Yulu']"
      ]
     },
     "execution_count": 26,
     "metadata": {},
     "output_type": "execute_result"
    }
   ],
   "source": [
    "students.pop(2)\n",
    "students"
   ]
  },
  {
   "cell_type": "markdown",
   "metadata": {},
   "source": [
    "## List Functions"
   ]
  },
  {
   "cell_type": "markdown",
   "metadata": {},
   "source": [
    "``` python\n",
    "len(list) - Gives the total length of the list.\n",
    "max(list) - Returns item from the list with max value.\n",
    "min(list) - Returns item from the list with min value.\n",
    "list(seq) - Converts a tuple into list.\n",
    "```"
   ]
  },
  {
   "cell_type": "code",
   "execution_count": 27,
   "metadata": {},
   "outputs": [
    {
     "data": {
      "text/plain": [
       "4"
      ]
     },
     "execution_count": 27,
     "metadata": {},
     "output_type": "execute_result"
    }
   ],
   "source": [
    "len(students)"
   ]
  },
  {
   "cell_type": "code",
   "execution_count": 28,
   "metadata": {},
   "outputs": [
    {
     "data": {
      "text/plain": [
       "'Yulu'"
      ]
     },
     "execution_count": 28,
     "metadata": {},
     "output_type": "execute_result"
    }
   ],
   "source": [
    "max(students)"
   ]
  },
  {
   "cell_type": "code",
   "execution_count": 29,
   "metadata": {},
   "outputs": [
    {
     "data": {
      "text/plain": [
       "'Alex'"
      ]
     },
     "execution_count": 29,
     "metadata": {},
     "output_type": "execute_result"
    }
   ],
   "source": [
    "min(students)"
   ]
  },
  {
   "cell_type": "markdown",
   "metadata": {},
   "source": [
    "## List Methods"
   ]
  },
  {
   "cell_type": "markdown",
   "metadata": {},
   "source": [
    "``` python\n",
    "list.append(obj) -Appends object obj to list\n",
    "list.count(obj) - Returns count of how many times obj occurs in list\n",
    "list.extend(seq) - Appends the contents of seq to list\n",
    "list.index(obj) - Returns the lowest index in list that obj appears\n",
    "list.insert(index, obj) - Inserts object obj into list at offset index\n",
    "list.pop(obj = list[-1]) Removes and returns last object or obj from list\n",
    "list.remove(obj) - Removes object obj from list\n",
    "list.reverse() - Reverses objects of list in place\n",
    "list.sort([func]) - Sorts objects of list, use compare func if given\n",
    "```"
   ]
  },
  {
   "cell_type": "markdown",
   "metadata": {},
   "source": [
    "## Convert List to String"
   ]
  },
  {
   "cell_type": "code",
   "execution_count": 30,
   "metadata": {},
   "outputs": [
    {
     "data": {
      "text/plain": [
       "'Alex,John,Chang,Yulu'"
      ]
     },
     "execution_count": 30,
     "metadata": {},
     "output_type": "execute_result"
    }
   ],
   "source": [
    "str=','.join(students) # if we want comma searated. it can be ;-,| any separator \n",
    "str"
   ]
  },
  {
   "cell_type": "markdown",
   "metadata": {},
   "source": [
    "## Convert String to List"
   ]
  },
  {
   "cell_type": "code",
   "execution_count": 31,
   "metadata": {},
   "outputs": [
    {
     "data": {
      "text/plain": [
       "['Alex', 'John', 'Chang', 'Yulu']"
      ]
     },
     "execution_count": 31,
     "metadata": {},
     "output_type": "execute_result"
    }
   ],
   "source": [
    "new_list = str.split(',')\n",
    "new_list"
   ]
  },
  {
   "cell_type": "code",
   "execution_count": null,
   "metadata": {},
   "outputs": [],
   "source": []
  },
  {
   "cell_type": "markdown",
   "metadata": {},
   "source": [
    "# 2. Tuples"
   ]
  },
  {
   "cell_type": "markdown",
   "metadata": {},
   "source": [
    "Tuples are <b> immutable </b>. Tuples defined with (). list with [] "
   ]
  },
  {
   "cell_type": "code",
   "execution_count": 32,
   "metadata": {},
   "outputs": [
    {
     "name": "stdout",
     "output_type": "stream",
     "text": [
      "['Alex', 'John', 'Mira', 'Chang', 'Prakash']\n",
      "['Alex', 'John', 'Mira', 'Chang', 'Prakash']\n",
      "['Alex', 'John', 'Som', 'Mira', 'Chang', 'Prakash']\n",
      "['Alex', 'John', 'Som', 'Mira', 'Chang', 'Prakash']\n"
     ]
    }
   ],
   "source": [
    "# It happens in case of LIST. as list is Mutable. Means it can be changed.\n",
    "students =['Alex', 'John', 'Mira', 'Chang', 'Prakash']\n",
    "new_students = students\n",
    "print(students)\n",
    "print(new_students)\n",
    "students.insert(2,'Som')\n",
    "print(students)\n",
    "print(new_students)"
   ]
  },
  {
   "cell_type": "markdown",
   "metadata": {},
   "source": [
    "<b>Note: </b> give attention that, 'new_students' values also got changed when 'students' got changed."
   ]
  },
  {
   "cell_type": "code",
   "execution_count": 33,
   "metadata": {},
   "outputs": [
    {
     "name": "stdout",
     "output_type": "stream",
     "text": [
      "('Alex', 'John', 'Mira', 'Chang', 'Prakash')\n",
      "('Alex', 'John', 'Mira', 'Chang', 'Prakash')\n"
     ]
    },
    {
     "ename": "TypeError",
     "evalue": "'tuple' object does not support item assignment",
     "output_type": "error",
     "traceback": [
      "\u001b[1;31m---------------------------------------------------------------------------\u001b[0m",
      "\u001b[1;31mTypeError\u001b[0m                                 Traceback (most recent call last)",
      "\u001b[1;32m<ipython-input-33-605a3e09a8a7>\u001b[0m in \u001b[0;36m<module>\u001b[1;34m\u001b[0m\n\u001b[0;32m      4\u001b[0m \u001b[0mprint\u001b[0m\u001b[1;33m(\u001b[0m\u001b[0mt_students\u001b[0m\u001b[1;33m)\u001b[0m\u001b[1;33m\u001b[0m\u001b[1;33m\u001b[0m\u001b[0m\n\u001b[0;32m      5\u001b[0m \u001b[0mprint\u001b[0m\u001b[1;33m(\u001b[0m\u001b[0mt_new_students\u001b[0m\u001b[1;33m)\u001b[0m\u001b[1;33m\u001b[0m\u001b[1;33m\u001b[0m\u001b[0m\n\u001b[1;32m----> 6\u001b[1;33m \u001b[0mt_students\u001b[0m\u001b[1;33m[\u001b[0m\u001b[1;36m2\u001b[0m\u001b[1;33m]\u001b[0m\u001b[1;33m=\u001b[0m\u001b[1;34m'Som'\u001b[0m\u001b[1;33m\u001b[0m\u001b[1;33m\u001b[0m\u001b[0m\n\u001b[0m\u001b[0;32m      7\u001b[0m \u001b[0mprint\u001b[0m\u001b[1;33m(\u001b[0m\u001b[0mt_students\u001b[0m\u001b[1;33m)\u001b[0m\u001b[1;33m\u001b[0m\u001b[1;33m\u001b[0m\u001b[0m\n\u001b[0;32m      8\u001b[0m \u001b[0mprint\u001b[0m\u001b[1;33m(\u001b[0m\u001b[0mt_new_students\u001b[0m\u001b[1;33m)\u001b[0m\u001b[1;33m\u001b[0m\u001b[1;33m\u001b[0m\u001b[0m\n",
      "\u001b[1;31mTypeError\u001b[0m: 'tuple' object does not support item assignment"
     ]
    }
   ],
   "source": [
    "# Tuples cant be changed. It is Immutable.\n",
    "t_students =('Alex', 'John', 'Mira', 'Chang', 'Prakash')\n",
    "t_new_students = t_students\n",
    "print(t_students)\n",
    "print(t_new_students)\n",
    "t_students[2]='Som'\n",
    "print(t_students)\n",
    "print(t_new_students)\n",
    "\n",
    "# It will show, TypeError: 'tuple' object does not support item assignment. because Tuple is immutable. It can't be changed"
   ]
  },
  {
   "cell_type": "markdown",
   "metadata": {},
   "source": [
    "<b>Note: </b> Tuples dont have many methods like list. Because methods for list are mostly for updating and changing list. Tuple is immutable."
   ]
  },
  {
   "cell_type": "markdown",
   "metadata": {},
   "source": [
    "# 3. Sets"
   ]
  },
  {
   "cell_type": "markdown",
   "metadata": {},
   "source": [
    "Sets are unordered and contains NO duplicate. defined with {...}"
   ]
  },
  {
   "cell_type": "markdown",
   "metadata": {},
   "source": [
    "<b><u> Important: </u></b>\n",
    "* Empty list\n",
    "\n",
    "list_1 =[] <br> \n",
    "list_1 = list()\n",
    "\n",
    "* Empty Tuple\n",
    "\n",
    "tuple_1=() <br> \n",
    "tupls_1=tuple()\n",
    "\n",
    "* Empty Set\n",
    "\n",
    "set_1 = set() // It cant be set_1={}. because empty dict is defined with {}"
   ]
  },
  {
   "cell_type": "code",
   "execution_count": null,
   "metadata": {},
   "outputs": [],
   "source": [
    "s_students ={'Alex', 'John', 'Mira', 'Chang', 'Prakash'}\n",
    "s_students\n",
    "# if you run few times, it will show items in defferent order. Because set is UNordered"
   ]
  },
  {
   "cell_type": "code",
   "execution_count": null,
   "metadata": {},
   "outputs": [],
   "source": [
    "# Set throws duplicates out\n",
    "s_students ={'Alex', 'John', 'Mira', 'Chang', 'Prakash', 'Mira'}\n",
    "s_students"
   ]
  },
  {
   "cell_type": "markdown",
   "metadata": {},
   "source": [
    "## Membership tests"
   ]
  },
  {
   "cell_type": "code",
   "execution_count": null,
   "metadata": {},
   "outputs": [],
   "source": [
    "# Check if an item exists in Set\n",
    "print ('Mira' in s_students)"
   ]
  },
  {
   "cell_type": "markdown",
   "metadata": {},
   "source": [
    "## Intersection"
   ]
  },
  {
   "cell_type": "code",
   "execution_count": null,
   "metadata": {},
   "outputs": [],
   "source": [
    "# find intersection in Sets or find common items\n",
    "s_students ={'Alex', 'John', 'Mira', 'Chang', 'Prakash'}\n",
    "s_new_students ={'Bablu', 'Abbas', 'Mira', 'Chang'}\n",
    "s_students.intersection(s_new_students)"
   ]
  },
  {
   "cell_type": "markdown",
   "metadata": {},
   "source": [
    "## Difference"
   ]
  },
  {
   "cell_type": "code",
   "execution_count": null,
   "metadata": {},
   "outputs": [],
   "source": [
    "s_students.difference(s_new_students)"
   ]
  },
  {
   "cell_type": "markdown",
   "metadata": {},
   "source": [
    "## Union"
   ]
  },
  {
   "cell_type": "code",
   "execution_count": null,
   "metadata": {},
   "outputs": [],
   "source": [
    "s_students.union(s_new_students)"
   ]
  },
  {
   "cell_type": "markdown",
   "metadata": {},
   "source": [
    "# 4. Dictionaries"
   ]
  },
  {
   "cell_type": "code",
   "execution_count": null,
   "metadata": {},
   "outputs": [],
   "source": [
    "# define a dict\n",
    "d_students={'name':'Som', 'email':'som@e2eSolutionArchitect.com', 'grade': 1, 'courses':['Data Science','ML', 'AI']}\n",
    "d_students"
   ]
  },
  {
   "cell_type": "markdown",
   "metadata": {},
   "source": [
    "## Access to dictionary items"
   ]
  },
  {
   "cell_type": "code",
   "execution_count": null,
   "metadata": {},
   "outputs": [],
   "source": [
    "# access values by KEY\n",
    "d_students['courses'][1]"
   ]
  },
  {
   "cell_type": "code",
   "execution_count": null,
   "metadata": {},
   "outputs": [],
   "source": [
    "# better way to access a key. If the key does not exist then return None\n",
    "# d_students.get('phone')\n",
    "d_students.get('phone', 'Not Found') # with custom message when key doesnt exist"
   ]
  },
  {
   "cell_type": "markdown",
   "metadata": {},
   "source": [
    "## Add and Update element in dict"
   ]
  },
  {
   "cell_type": "code",
   "execution_count": null,
   "metadata": {},
   "outputs": [],
   "source": [
    "d_students['phone']='222-2222'\n",
    "d_students"
   ]
  },
  {
   "cell_type": "code",
   "execution_count": null,
   "metadata": {},
   "outputs": [],
   "source": [
    "# update value of an existing key\n",
    "d_students['phone']='999-9090'\n",
    "d_students"
   ]
  },
  {
   "cell_type": "markdown",
   "metadata": {},
   "source": [
    "## Update for multiple Keys"
   ]
  },
  {
   "cell_type": "code",
   "execution_count": null,
   "metadata": {},
   "outputs": [],
   "source": [
    "d_students.update({'name': 'John', 'phone': '666-6767'})\n",
    "d_students"
   ]
  },
  {
   "cell_type": "markdown",
   "metadata": {},
   "source": [
    "## Delete a Key"
   ]
  },
  {
   "cell_type": "code",
   "execution_count": null,
   "metadata": {},
   "outputs": [],
   "source": [
    "# delete key phone\n",
    "del d_students['phone']\n",
    "d_students"
   ]
  },
  {
   "cell_type": "code",
   "execution_count": null,
   "metadata": {},
   "outputs": [],
   "source": [
    "# another way of deleteing or popped off\n",
    "d_students.pop('grade')\n",
    "# it returns the value of the key after deleting the key"
   ]
  },
  {
   "cell_type": "markdown",
   "metadata": {},
   "source": [
    "## Functions of Dictionary"
   ]
  },
  {
   "cell_type": "code",
   "execution_count": null,
   "metadata": {},
   "outputs": [],
   "source": [
    "# Length of a dictionary is count of keys in dictionary\n",
    "len(d_students)"
   ]
  },
  {
   "cell_type": "code",
   "execution_count": null,
   "metadata": {},
   "outputs": [],
   "source": [
    "# Keys of a dictionary\n",
    "d_students.keys()"
   ]
  },
  {
   "cell_type": "code",
   "execution_count": null,
   "metadata": {},
   "outputs": [],
   "source": [
    "# Values of a dictionary\n",
    "d_students.values()"
   ]
  },
  {
   "cell_type": "code",
   "execution_count": null,
   "metadata": {},
   "outputs": [],
   "source": [
    "# find all items of a dictionary \n",
    "d_students.items()"
   ]
  },
  {
   "cell_type": "code",
   "execution_count": null,
   "metadata": {},
   "outputs": [],
   "source": [
    "# Another way to fetch only key or value\n",
    "for key in d_students:\n",
    "    print(key)"
   ]
  },
  {
   "cell_type": "code",
   "execution_count": null,
   "metadata": {},
   "outputs": [],
   "source": [
    "# Another way to fetch all key value pair\n",
    "for key,val in d_students.items():\n",
    "    print(key,val)"
   ]
  },
  {
   "cell_type": "code",
   "execution_count": null,
   "metadata": {},
   "outputs": [],
   "source": []
  }
 ],
 "metadata": {
  "kernelspec": {
   "display_name": "Python 3",
   "language": "python",
   "name": "python3"
  },
  "language_info": {
   "codemirror_mode": {
    "name": "ipython",
    "version": 3
   },
   "file_extension": ".py",
   "mimetype": "text/x-python",
   "name": "python",
   "nbconvert_exporter": "python",
   "pygments_lexer": "ipython3",
   "version": "3.7.6"
  }
 },
 "nbformat": 4,
 "nbformat_minor": 4
}
